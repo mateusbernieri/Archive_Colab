{
  "nbformat": 4,
  "nbformat_minor": 0,
  "metadata": {
    "colab": {
      "name": "Titanic.ipynb",
      "provenance": [],
      "authorship_tag": "ABX9TyPgpVTZH8Jq8EhsG2BQ2Rg/",
      "include_colab_link": true
    },
    "kernelspec": {
      "name": "python3",
      "display_name": "Python 3"
    },
    "language_info": {
      "name": "python"
    }
  },
  "cells": [
    {
      "cell_type": "markdown",
      "metadata": {
        "id": "view-in-github",
        "colab_type": "text"
      },
      "source": [
        "<a href=\"https://colab.research.google.com/github/mateusbernieri/Archive_Colab/blob/main/Titanic.ipynb\" target=\"_parent\"><img src=\"https://colab.research.google.com/assets/colab-badge.svg\" alt=\"Open In Colab\"/></a>"
      ]
    },
    {
      "cell_type": "markdown",
      "source": [
        "# Titanic: Machine Learning From Disaster"
      ],
      "metadata": {
        "id": "aCiK4RZL4XNr"
      }
    },
    {
      "cell_type": "code",
      "source": [
        "import pandas as pd\n",
        "import numpy as np\n",
        "import matplotlib.pyplot as plt\n",
        "import seaborn as sns   \n",
        "\n",
        "#Permite Visualizar rodas as colunas  \n",
        "pd.options.display.max_columns = None"
      ],
      "metadata": {
        "id": "GHcU0ItL4rVC"
      },
      "execution_count": 6,
      "outputs": []
    },
    {
      "cell_type": "code",
      "source": [
        "#Realizando a importação dos datasets\n",
        "train = pd.read_csv('https://raw.githubusercontent.com/mateusbernieri/Archive_DataScience/main/test.csv')\n",
        "test = pd.read_csv('https://raw.githubusercontent.com/mateusbernieri/Archive_DataScience/main/train.csv')"
      ],
      "metadata": {
        "id": "BNlx6QjK5UIT"
      },
      "execution_count": 4,
      "outputs": []
    }
  ]
}