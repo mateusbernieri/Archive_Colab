{
  "nbformat": 4,
  "nbformat_minor": 0,
  "metadata": {
    "colab": {
      "name": "Titanic.ipynb",
      "provenance": [],
      "authorship_tag": "ABX9TyPMIDeHh2Qdk56YYJLL7je0",
      "include_colab_link": true
    },
    "kernelspec": {
      "name": "python3",
      "display_name": "Python 3"
    },
    "language_info": {
      "name": "python"
    }
  },
  "cells": [
    {
      "cell_type": "markdown",
      "metadata": {
        "id": "view-in-github",
        "colab_type": "text"
      },
      "source": [
        "<a href=\"https://colab.research.google.com/github/mateusbernieri/Archive_Colab/blob/main/Titanic.ipynb\" target=\"_parent\"><img src=\"https://colab.research.google.com/assets/colab-badge.svg\" alt=\"Open In Colab\"/></a>"
      ]
    },
    {
      "cell_type": "markdown",
      "source": [
        "# Titanic: Machine Learning From Disaster"
      ],
      "metadata": {
        "id": "aCiK4RZL4XNr"
      }
    },
    {
      "cell_type": "code",
      "source": [
        "import pandas as pd\n",
        "import numpy as np\n",
        "import matplotlib.pyplot as plt\n",
        "import seaborn as sns   \n",
        "\n",
        "#Permite Visualizar rodas as colunas  \n",
        "pd.options.display.max_columns = None"
      ],
      "metadata": {
        "id": "GHcU0ItL4rVC"
      },
      "execution_count": 6,
      "outputs": []
    },
    {
      "cell_type": "code",
      "source": [
        "#Realizando a importação dos datasets\n",
        "train = pd.read_csv('https://raw.githubusercontent.com/mateusbernieri/Archive_DataScience/main/test.csv')\n",
        "test = pd.read_csv('https://raw.githubusercontent.com/mateusbernieri/Archive_DataScience/main/train.csv')\n"
      ],
      "metadata": {
        "id": "BNlx6QjK5UIT"
      },
      "execution_count": 4,
      "outputs": []
    },
    {
      "cell_type": "markdown",
      "source": [
        "Quantas variáveis (colunas) e quantas entradas (linhas) possui o arquivo?"
      ],
      "metadata": {
        "id": "0WddeFeR9ZbM"
      }
    },
    {
      "cell_type": "code",
      "source": [
        "print(\"Variáveis:\\t{}(Colunas)\\nEntradas: {} (Linhas)\".format(train.shape[1], train.shape[0]))"
      ],
      "metadata": {
        "colab": {
          "base_uri": "https://localhost:8080/"
        },
        "id": "vLRICSfn-ytW",
        "outputId": "d82b87f1-2c8a-4897-b3a5-bfce524a4c4e"
      },
      "execution_count": 21,
      "outputs": [
        {
          "output_type": "stream",
          "name": "stdout",
          "text": [
            "Variáveis:\t11(Colunas)\n",
            "Entradas: 418 (Linhas)\n"
          ]
        }
      ]
    },
    {
      "cell_type": "code",
      "source": [
        ""
      ],
      "metadata": {
        "id": "SMX3aL8p_FGp"
      },
      "execution_count": null,
      "outputs": []
    }
  ]
}